{
  "nbformat": 4,
  "nbformat_minor": 0,
  "metadata": {
    "colab": {
      "provenance": [],
      "authorship_tag": "ABX9TyMxoDV9znFchtSqfr68L0O1",
      "include_colab_link": true
    },
    "kernelspec": {
      "name": "python3",
      "display_name": "Python 3"
    },
    "language_info": {
      "name": "python"
    }
  },
  "cells": [
    {
      "cell_type": "markdown",
      "metadata": {
        "id": "view-in-github",
        "colab_type": "text"
      },
      "source": [
        "<a href=\"https://colab.research.google.com/github/pete-254-13/cryptomaniac/blob/main/tictactoe_game.ipynb\" target=\"_parent\"><img src=\"https://colab.research.google.com/assets/colab-badge.svg\" alt=\"Open In Colab\"/></a>"
      ]
    },
    {
      "cell_type": "code",
      "execution_count": null,
      "metadata": {
        "id": "wdoAhYsOZj6Z"
      },
      "outputs": [],
      "source": []
    },
    {
      "cell_type": "code",
      "source": [
        "# Function to print the Tic-Tac-Toe board\n",
        "def print_board(board):\n",
        "    for row in board:\n",
        "        print(\" | \".join(row))\n",
        "        print(\"-\" * 9)\n",
        "\n",
        "# Function to check if any player has won\n",
        "def check_win(board, player):\n",
        "    for row in board:\n",
        "        if all([cell == player for cell in row]):\n",
        "            return True\n",
        "    for col in range(3):\n",
        "        if all([board[row][col] == player for row in range(3)]):\n",
        "            return True\n",
        "    if all([board[i][i] == player for i in range(3)]) or all([board[i][2 - i] == player for i in range(3)]):\n",
        "        return True\n",
        "    return False\n",
        "\n",
        "# Function to check if the board is full (draw)\n",
        "def is_draw(board):\n",
        "    return all([cell != \" \" for row in board for cell in row])\n",
        "\n",
        "# Main function to play the game\n",
        "def tic_tac_toe():\n",
        "    board = [[\" \" for _ in range(3)] for _ in range(3)]\n",
        "    current_player = \"X\"\n",
        "\n",
        "    while True:\n",
        "        print_board(board)\n",
        "        print(f\"Player {current_player}'s turn\")\n",
        "\n",
        "        # Get valid move from the player\n",
        "        while True:\n",
        "            try:\n",
        "                row = int(input(\"Enter row (1, 2, or 3): \")) - 1\n",
        "                col = int(input(\"Enter column (1, 2, or 3): \")) - 1\n",
        "                if board[row][col] == \" \":\n",
        "                    board[row][col] = current_player\n",
        "                    break\n",
        "                else:\n",
        "                    print(\"Cell already taken. Try again.\")\n",
        "            except (ValueError, IndexError):\n",
        "                print(\"Invalid input. Please enter numbers between 1 and 3.\")\n",
        "\n",
        "        # Check for win or draw\n",
        "        if check_win(board, current_player):\n",
        "            print_board(board)\n",
        "            print(f\"Player {current_player} wins!\")\n",
        "            break\n",
        "        elif is_draw(board):\n",
        "            print_board(board)\n",
        "            print(\"It's a draw!\")\n",
        "            break\n",
        "\n",
        "        # Switch player\n",
        "        current_player = \"O\" if current_player == \"X\" else \"X\"\n",
        "\n",
        "# Run the game\n",
        "tic_tac_toe()\n",
        "\n"
      ],
      "metadata": {
        "colab": {
          "base_uri": "https://localhost:8080/"
        },
        "id": "uVo6GvcyZtp1",
        "outputId": "eb99b640-d97a-4701-a566-54f830df3527"
      },
      "execution_count": null,
      "outputs": [
        {
          "output_type": "stream",
          "name": "stdout",
          "text": [
            "  |   |  \n",
            "---------\n",
            "  |   |  \n",
            "---------\n",
            "  |   |  \n",
            "---------\n",
            "Player X's turn\n",
            "Enter row (1, 2, or 3): 1\n",
            "Enter column (1, 2, or 3): 1\n",
            "X |   |  \n",
            "---------\n",
            "  |   |  \n",
            "---------\n",
            "  |   |  \n",
            "---------\n",
            "Player O's turn\n",
            "Enter row (1, 2, or 3): 3\n",
            "Enter column (1, 2, or 3): 2\n",
            "X |   |  \n",
            "---------\n",
            "  |   |  \n",
            "---------\n",
            "  | O |  \n",
            "---------\n",
            "Player X's turn\n"
          ]
        }
      ]
    }
  ]
}